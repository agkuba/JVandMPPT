{
 "cells": [
  {
   "cell_type": "code",
   "execution_count": 10,
   "id": "0f77b627-555c-430c-a2d9-db5d22066372",
   "metadata": {},
   "outputs": [],
   "source": [
    "# Import necessary packages\n",
    "import pymeasure\n",
    "from pymeasure.instruments.keithley import Keithley2400\n",
    "import numpy as np\n",
    "import pandas as pd\n",
    "from time import sleep\n",
    "from time import time\n",
    "from matplotlib import pyplot as plt\n",
    "import datetime\n",
    "import os\n",
    "import JVfunctions"
   ]
  },
  {
   "cell_type": "code",
   "execution_count": 11,
   "id": "1df8bc01-436a-4318-9d97-4b8bd4c2d6c3",
   "metadata": {},
   "outputs": [],
   "source": [
    "# Set the input parameters\n",
    "JVfunctions.cell_name='test'\n",
    "JVfunctions.cell_area=0.16 #cm2\n",
    "\n",
    "data_points = 60 #number of voltage steps\n",
    "max_current = 0.01 #maximum current from the cell\n",
    "min_current = -max_current\n",
    "v_in=-0.6 #initial voltage\n",
    "v_fin=1.4 #final voltage\n",
    "i_volt=0.6\n",
    "timedelay=0\n",
    "\n",
    "\n",
    "plc=0.01 #power line cycles (1= 1/60 s)\n",
    "averages = 3 #number of points to average\n",
    "bufdelay= 0.01 # buffer delay in seconds (10 ms)\n",
    "\n",
    "prebias= True # are you doing a prebias scan first?\n",
    "JVfunctions.biastime = 30 # time in seconds for prebias"
   ]
  },
  {
   "cell_type": "code",
   "execution_count": 12,
   "id": "1af7eecc-5872-44fd-a943-3d12f1f08c21",
   "metadata": {},
   "outputs": [
    {
     "name": "stdout",
     "output_type": "stream",
     "text": [
      "scan1\n",
      "Prebiasing at \n",
      "1.4\n",
      "Scan Down\n",
      "Scan Up\n",
      "Interrupted                          \n",
      "Measurement complete\n",
      "Files saved: \n",
      "1109211650_testMPPT.csv\n"
     ]
    },
    {
     "data": {
      "image/png": "[encoded data removed]",
      "text/plain": [
       "<Figure size 432x288 with 1 Axes>"
      ]
     },
     "metadata": {
      "needs_background": "light"
     },
     "output_type": "display_data"
    }
   ],
   "source": [
    "JVfunctions.JVscan(v_in, v_fin, averages, data_points, plc, bufdelay, prebias)\n",
    "JVfunctions.MPPT(plc,averages,data_points,i_volt,timedelay)"
   ]
  },
  {
   "cell_type": "code",
   "execution_count": null,
   "id": "fff56765-bc57-409e-a400-65bedde3349b",
   "metadata": {},
   "outputs": [],
   "source": []
  }
 ],
 "metadata": {
  "kernelspec": {
   "display_name": "Python 3",
   "language": "python",
   "name": "python3"
  },
  "language_info": {
   "codemirror_mode": {
    "name": "ipython",
    "version": 3
   },
   "file_extension": ".py",
   "mimetype": "text/x-python",
   "name": "python",
   "nbconvert_exporter": "python",
   "pygments_lexer": "ipython3",
   "version": "3.8.8"
  }
 },
 "nbformat": 4,
 "nbformat_minor": 5
}
